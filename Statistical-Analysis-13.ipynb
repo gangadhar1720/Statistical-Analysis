{
 "cells": [
  {
   "cell_type": "markdown",
   "id": "ec3412ea-6831-496e-ac0e-d7277a02c54e",
   "metadata": {},
   "source": [
    "# Loading the Iris Dataset"
   ]
  },
  {
   "cell_type": "code",
   "execution_count": 3,
   "id": "eb1874d6-1832-4209-888a-9b181c581a6b",
   "metadata": {},
   "outputs": [
    {
     "name": "stdout",
     "output_type": "stream",
     "text": [
      "   sepal length (cm)  sepal width (cm)  petal length (cm)  petal width (cm)\n",
      "0                5.1               3.5                1.4               0.2\n",
      "1                4.9               3.0                1.4               0.2\n",
      "2                4.7               3.2                1.3               0.2\n",
      "3                4.6               3.1                1.5               0.2\n",
      "4                5.0               3.6                1.4               0.2\n"
     ]
    }
   ],
   "source": [
    "import pandas as pd\n",
    "from sklearn.datasets import load_iris\n",
    "\n",
    "#Load dataset\n",
    "iris = load_iris()\n",
    "df=pd.DataFrame(data=iris.data,columns=iris.feature_names)\n",
    "\n",
    "# Display the first few rows\n",
    "print(df.head())"
   ]
  },
  {
   "cell_type": "code",
   "execution_count": 5,
   "id": "48842430-3189-4065-9a4d-0d0d7c4b0358",
   "metadata": {},
   "outputs": [
    {
     "data": {
      "text/plain": [
       "<bound method NDFrame.describe of      sepal length (cm)  sepal width (cm)  petal length (cm)  petal width (cm)\n",
       "0                  5.1               3.5                1.4               0.2\n",
       "1                  4.9               3.0                1.4               0.2\n",
       "2                  4.7               3.2                1.3               0.2\n",
       "3                  4.6               3.1                1.5               0.2\n",
       "4                  5.0               3.6                1.4               0.2\n",
       "..                 ...               ...                ...               ...\n",
       "145                6.7               3.0                5.2               2.3\n",
       "146                6.3               2.5                5.0               1.9\n",
       "147                6.5               3.0                5.2               2.0\n",
       "148                6.2               3.4                5.4               2.3\n",
       "149                5.9               3.0                5.1               1.8\n",
       "\n",
       "[150 rows x 4 columns]>"
      ]
     },
     "execution_count": 5,
     "metadata": {},
     "output_type": "execute_result"
    }
   ],
   "source": [
    "df.describe"
   ]
  },
  {
   "cell_type": "markdown",
   "id": "221a53db-b934-4618-800d-1e533c8de158",
   "metadata": {},
   "source": [
    "# Performing Descriptive Statistics"
   ]
  },
  {
   "cell_type": "markdown",
   "id": "7e5c3f6f-e4c7-49b8-9b67-325f973d1afd",
   "metadata": {},
   "source": [
    "# Mean"
   ]
  },
  {
   "cell_type": "code",
   "execution_count": 51,
   "id": "9e3184de-73fd-45dd-b980-3ceacdebcb8a",
   "metadata": {},
   "outputs": [
    {
     "name": "stdout",
     "output_type": "stream",
     "text": [
      "Mean:\n",
      " sepal length (cm)    5.843333\n",
      "sepal width (cm)     3.057333\n",
      "petal length (cm)    3.758000\n",
      "petal width (cm)     1.199333\n",
      "target               1.000000\n",
      "dtype: float64\n"
     ]
    }
   ],
   "source": [
    "print(\"Mean:\\n\", df.mean())"
   ]
  },
  {
   "cell_type": "markdown",
   "id": "147cd64a-abf3-4d19-b9db-6414115fe116",
   "metadata": {},
   "source": [
    "# Median"
   ]
  },
  {
   "cell_type": "code",
   "execution_count": 55,
   "id": "a964968d-65ba-4857-a958-ca4dbddcf0a7",
   "metadata": {},
   "outputs": [
    {
     "name": "stdout",
     "output_type": "stream",
     "text": [
      "\n",
      "Median:\n",
      " sepal length (cm)    5.80\n",
      "sepal width (cm)     3.00\n",
      "petal length (cm)    4.35\n",
      "petal width (cm)     1.30\n",
      "target               1.00\n",
      "dtype: float64\n"
     ]
    }
   ],
   "source": [
    "print(\"\\nMedian:\\n\", df.median())"
   ]
  },
  {
   "cell_type": "markdown",
   "id": "b24ce698-eb9c-481e-810d-be07c645430f",
   "metadata": {},
   "source": [
    "# Mode"
   ]
  },
  {
   "cell_type": "code",
   "execution_count": 58,
   "id": "ecbecc53-9ab5-4856-8a96-8150fdaf92f5",
   "metadata": {},
   "outputs": [
    {
     "name": "stdout",
     "output_type": "stream",
     "text": [
      "\n",
      "Mode:\n",
      " sepal length (cm)    5.0\n",
      "sepal width (cm)     3.0\n",
      "petal length (cm)    1.4\n",
      "petal width (cm)     0.2\n",
      "target               0.0\n",
      "Name: 0, dtype: float64\n"
     ]
    }
   ],
   "source": [
    "print(\"\\nMode:\\n\", df.mode().iloc[0])"
   ]
  },
  {
   "cell_type": "markdown",
   "id": "81483788-d271-46b5-8a8b-984a46b22267",
   "metadata": {},
   "source": [
    "# standard deviation"
   ]
  },
  {
   "cell_type": "code",
   "execution_count": 61,
   "id": "1cc4b2cd-616c-496f-b7a9-af9d16946028",
   "metadata": {},
   "outputs": [
    {
     "name": "stdout",
     "output_type": "stream",
     "text": [
      "\n",
      "Standard Deviation:\n",
      " sepal length (cm)    0.828066\n",
      "sepal width (cm)     0.435866\n",
      "petal length (cm)    1.765298\n",
      "petal width (cm)     0.762238\n",
      "target               0.819232\n",
      "dtype: float64\n"
     ]
    }
   ],
   "source": [
    "print(\"\\nStandard Deviation:\\n\", df.std())"
   ]
  },
  {
   "cell_type": "markdown",
   "id": "df73dce5-fba1-4689-8881-2381999cc393",
   "metadata": {},
   "source": [
    "# Variance"
   ]
  },
  {
   "cell_type": "code",
   "execution_count": 64,
   "id": "50ac144b-0fd3-44c6-a052-6f14d687dc03",
   "metadata": {},
   "outputs": [
    {
     "name": "stdout",
     "output_type": "stream",
     "text": [
      "\n",
      "Variance:\n",
      " sepal length (cm)    0.685694\n",
      "sepal width (cm)     0.189979\n",
      "petal length (cm)    3.116278\n",
      "petal width (cm)     0.581006\n",
      "target               0.671141\n",
      "dtype: float64\n"
     ]
    }
   ],
   "source": [
    "print(\"\\nVariance:\\n\", df.var())"
   ]
  },
  {
   "cell_type": "markdown",
   "id": "f0bc1be6-35cc-46aa-9315-6755d8edf1d6",
   "metadata": {},
   "source": [
    "# Additional descriptive statistics"
   ]
  },
  {
   "cell_type": "markdown",
   "id": "d8555051-b834-416a-ada3-53a23eaca096",
   "metadata": {},
   "source": [
    "# Range"
   ]
  },
  {
   "cell_type": "code",
   "execution_count": 68,
   "id": "a51a8d83-4514-4edd-8ad0-29f8ba5799dc",
   "metadata": {},
   "outputs": [
    {
     "name": "stdout",
     "output_type": "stream",
     "text": [
      "\n",
      "Range:\n",
      " sepal length (cm)    3.6\n",
      "sepal width (cm)     2.4\n",
      "petal length (cm)    5.9\n",
      "petal width (cm)     2.4\n",
      "target               2.0\n",
      "dtype: float64\n"
     ]
    }
   ],
   "source": [
    "print(\"\\nRange:\\n\", df.max() - df.min())"
   ]
  },
  {
   "cell_type": "markdown",
   "id": "d526abfa-b912-4fd6-9e82-a32ab46f6146",
   "metadata": {},
   "source": [
    "# Skewness"
   ]
  },
  {
   "cell_type": "code",
   "execution_count": 70,
   "id": "45c6a3ae-b5a3-4b7c-810e-63de582ca72f",
   "metadata": {},
   "outputs": [
    {
     "name": "stdout",
     "output_type": "stream",
     "text": [
      "\n",
      "Skewness:\n",
      " sepal length (cm)    0.314911\n",
      "sepal width (cm)     0.318966\n",
      "petal length (cm)   -0.274884\n",
      "petal width (cm)    -0.102967\n",
      "target               0.000000\n",
      "dtype: float64\n"
     ]
    }
   ],
   "source": [
    "print(\"\\nSkewness:\\n\", df.skew())"
   ]
  },
  {
   "cell_type": "markdown",
   "id": "20266a83-c7a6-4bb4-8b69-724d6697aa1f",
   "metadata": {},
   "source": [
    "# kurtosis"
   ]
  },
  {
   "cell_type": "code",
   "execution_count": 76,
   "id": "fc3bce0a-908c-4f93-9d99-f5c5b71b0e7a",
   "metadata": {},
   "outputs": [
    {
     "name": "stdout",
     "output_type": "stream",
     "text": [
      "\n",
      "Kurtosis:\n",
      " sepal length (cm)   -0.552064\n",
      "sepal width (cm)     0.228249\n",
      "petal length (cm)   -1.402103\n",
      "petal width (cm)    -1.340604\n",
      "target              -1.510135\n",
      "dtype: float64\n"
     ]
    }
   ],
   "source": [
    "print(\"\\nKurtosis:\\n\", df.kurt())"
   ]
  },
  {
   "cell_type": "markdown",
   "id": "cda123d6-2103-402e-9263-5f65af569b96",
   "metadata": {},
   "source": [
    "# Performing Inferential Statistics"
   ]
  },
  {
   "cell_type": "code",
   "execution_count": 91,
   "id": "4085ad15-b455-4946-8b74-518f28548861",
   "metadata": {},
   "outputs": [
    {
     "name": "stdout",
     "output_type": "stream",
     "text": [
      "T-Statistic: 85.68585344251181\n",
      "P-Value: 1.1689659678846205e-128\n"
     ]
    }
   ],
   "source": [
    "from scipy import stats\n",
    "\n",
    "# Example data: Sepal length values\n",
    "sep_length = df['sepal length (cm)']\n",
    "\n",
    "# Hypothetical population mean for Sepal length\n",
    "population_mean = 0.05\n",
    "\n",
    "# Perform one-sample t-test\n",
    "t_stat, p_value = stats.ttest_1samp(sep_length, population_mean)\n",
    "\n",
    "print(f\"T-Statistic: {t_stat}\")\n",
    "print(f\"P-Value: {p_value}\")"
   ]
  },
  {
   "cell_type": "markdown",
   "id": "9e5039d6-b4f6-48dd-84a4-7b8200bd2d4f",
   "metadata": {},
   "source": [
    "# Confidence Intervals"
   ]
  },
  {
   "cell_type": "code",
   "execution_count": 93,
   "id": "28aa7f2b-1328-42db-b2ef-2cf29c623240",
   "metadata": {},
   "outputs": [],
   "source": [
    "import numpy as np\n",
    "from scipy import stats\n",
    "\n",
    "# Sample mean and standard error for Sepal length\n",
    "sample_mean = np.mean(sep_length)\n",
    "standard_error = stats.sem(sep_length)"
   ]
  },
  {
   "cell_type": "markdown",
   "id": "f0be9d70-81b4-4677-baef-cdd60f9ef7e3",
   "metadata": {},
   "source": [
    "# 95% Confidence interval"
   ]
  },
  {
   "cell_type": "code",
   "execution_count": 95,
   "id": "5186bbc1-c34b-40ea-b64c-9b1eb7d33df4",
   "metadata": {},
   "outputs": [
    {
     "name": "stdout",
     "output_type": "stream",
     "text": [
      "95% Confidence Interval for Sepal length: (5.710817588579892, 5.9758490780867755)\n"
     ]
    }
   ],
   "source": [
    "# Compute 95% confidence interval for Sepal length\n",
    "confidence_interval = stats.norm.interval(0.95, loc=sample_mean, scale=standard_error)\n",
    "\n",
    "print(f\"95% Confidence Interval for Sepal length: {confidence_interval}\")"
   ]
  },
  {
   "cell_type": "markdown",
   "id": "41030c73-758a-4d52-b6a4-789aa430f890",
   "metadata": {},
   "source": [
    "# 99% Confidence Interval"
   ]
  },
  {
   "cell_type": "code",
   "execution_count": 97,
   "id": "134719db-8848-453a-a2ea-5ef9c669525f",
   "metadata": {},
   "outputs": [
    {
     "name": "stdout",
     "output_type": "stream",
     "text": [
      "99% Confidence Interval for Sepal length: (5.669178123742774, 6.017488542923894)\n"
     ]
    }
   ],
   "source": [
    "# Compute 99% confidence interval for Sepal length\n",
    "confidence_interval = stats.norm.interval(0.99, loc=sample_mean, scale=standard_error)\n",
    "\n",
    "print(f\"99% Confidence Interval for Sepal length: {confidence_interval}\")"
   ]
  },
  {
   "cell_type": "markdown",
   "id": "13e412f6-0957-44fc-b72c-36e612b88ca7",
   "metadata": {},
   "source": [
    "# Regression Analysis"
   ]
  },
  {
   "cell_type": "code",
   "execution_count": 99,
   "id": "2c26bea9-04e5-43ea-9952-5b16d52d96ea",
   "metadata": {},
   "outputs": [
    {
     "name": "stdout",
     "output_type": "stream",
     "text": [
      "                            OLS Regression Results                            \n",
      "==============================================================================\n",
      "Dep. Variable:       sepal width (cm)   R-squared:                       0.014\n",
      "Model:                            OLS   Adj. R-squared:                  0.007\n",
      "Method:                 Least Squares   F-statistic:                     2.074\n",
      "Date:                Sun, 08 Sep 2024   Prob (F-statistic):              0.152\n",
      "Time:                        08:23:41   Log-Likelihood:                -86.732\n",
      "No. Observations:                 150   AIC:                             177.5\n",
      "Df Residuals:                     148   BIC:                             183.5\n",
      "Df Model:                           1                                         \n",
      "Covariance Type:            nonrobust                                         \n",
      "=====================================================================================\n",
      "                        coef    std err          t      P>|t|      [0.025      0.975]\n",
      "-------------------------------------------------------------------------------------\n",
      "const                 3.4189      0.254     13.484      0.000       2.918       3.920\n",
      "sepal length (cm)    -0.0619      0.043     -1.440      0.152      -0.147       0.023\n",
      "==============================================================================\n",
      "Omnibus:                        2.474   Durbin-Watson:                   1.263\n",
      "Prob(Omnibus):                  0.290   Jarque-Bera (JB):                1.994\n",
      "Skew:                           0.243   Prob(JB):                        0.369\n",
      "Kurtosis:                       3.288   Cond. No.                         43.4\n",
      "==============================================================================\n",
      "\n",
      "Notes:\n",
      "[1] Standard Errors assume that the covariance matrix of the errors is correctly specified.\n"
     ]
    }
   ],
   "source": [
    "import statsmodels.api as sm\n",
    "\n",
    "# Define independent variable (add constant for intercept)\n",
    "X = sm.add_constant(df['sepal length (cm)'])\n",
    "\n",
    "# Define dependent variable\n",
    "y = df['sepal width (cm)']\n",
    "\n",
    "# Fit linear regression model\n",
    "model = sm.OLS(y, X).fit()\n",
    "\n",
    "# Print model summary\n",
    "print(model.summary())"
   ]
  },
  {
   "cell_type": "markdown",
   "id": "456568f0-98bd-40fa-b610-9815bbaa13e9",
   "metadata": {},
   "source": [
    "# Visualization Analysis"
   ]
  },
  {
   "cell_type": "code",
   "execution_count": 101,
   "id": "b138e1df-eb3c-4d04-b5b6-af32d3bd1001",
   "metadata": {},
   "outputs": [
    {
     "data": {
      "image/png": "[encoded data removed]",
      "text/plain": [
       "<Figure size 640x480 with 1 Axes>"
      ]
     },
     "metadata": {},
     "output_type": "display_data"
    }
   ],
   "source": [
    "import matplotlib.pyplot as plt\n",
    "import seaborn as sns\n",
    "sns.scatterplot(x='sepal length (cm)', y='sepal width (cm)', data=df, color='blue',label='Data points')\n",
    "plt.plot(df['sepal length (cm)'], model.predict(X), color='red',label='Regression line')\n",
    "plt.title('sepal length (cm) vs sepal width (cm)')\n",
    "plt.xlabel('sepal length (cm)')\n",
    "plt.ylabel('sepal width (cm)')\n",
    "plt.legend()\n",
    "plt.show()"
   ]
  }
 ],
 "metadata": {
  "kernelspec": {
   "display_name": "Python 3 (ipykernel)",
   "language": "python",
   "name": "python3"
  },
  "language_info": {
   "codemirror_mode": {
    "name": "ipython",
    "version": 3
   },
   "file_extension": ".py",
   "mimetype": "text/x-python",
   "name": "python",
   "nbconvert_exporter": "python",
   "pygments_lexer": "ipython3",
   "version": "3.12.4"
  }
 },
 "nbformat": 4,
 "nbformat_minor": 5
}
